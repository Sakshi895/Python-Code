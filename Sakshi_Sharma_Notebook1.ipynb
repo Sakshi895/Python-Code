{
  "nbformat": 4,
  "nbformat_minor": 0,
  "metadata": {
    "colab": {
      "provenance": [],
      "authorship_tag": "ABX9TyOY+NcI40NZNbt32t/8NDMm",
      "include_colab_link": true
    },
    "kernelspec": {
      "name": "python3",
      "display_name": "Python 3"
    },
    "language_info": {
      "name": "python"
    }
  },
  "cells": [
    {
      "cell_type": "markdown",
      "metadata": {
        "id": "view-in-github",
        "colab_type": "text"
      },
      "source": [
        "<a href=\"https://colab.research.google.com/github/Sakshi895/Python-Code/blob/main/Sakshi_Sharma_Notebook1.ipynb\" target=\"_parent\"><img src=\"https://colab.research.google.com/assets/colab-badge.svg\" alt=\"Open In Colab\"/></a>"
      ]
    },
    {
      "cell_type": "code",
      "source": [
        "def get_user_input():\n",
        "    # Ask the user to enter a search term\n",
        "    search_term = input(\"Enter a search term: \")\n",
        "    return search_term\n",
        "\n",
        "# Test the function\n",
        "user_search_term = get_user_input()\n",
        "print(f'User entered search term: {user_search_term}')\n"
      ],
      "metadata": {
        "id": "bc2TYt8Kewet",
        "colab": {
          "base_uri": "https://localhost:8080/"
        },
        "outputId": "04ecff90-f44d-4e95-e1bf-9d7fd61ba397"
      },
      "execution_count": 1,
      "outputs": [
        {
          "output_type": "stream",
          "name": "stdout",
          "text": [
            "Enter a search term: 43\n",
            "User entered search term: 43\n"
          ]
        }
      ]
    },
    {
      "cell_type": "code",
      "source": [
        "import math  # Incorporate a square root function by importing the math module.\n",
        "# Developed a function to determine whether itIsPrime\n",
        "def isPrime(n):\n",
        "   # Determine whether the value is below or equal to 1.\n",
        "    if n <= 1:\n",
        "        return False\n",
        "\n",
        "    for i in range(2, int(math.sqrt(n)) + 1):\n",
        "       # Verifying that the number may be divided by any integer within the specified range.\n",
        "        if n % i == 0:\n",
        "            return False\n",
        "\n",
        "    #If the loop fails to identify a divisor, the integer is primeNo.\n",
        "    return True\n"
      ],
      "metadata": {
        "id": "VUMd-tvDIPwW"
      },
      "execution_count": 2,
      "outputs": []
    }
  ]
}